{
  "cells": [
    {
      "cell_type": "code",
      "execution_count": null,
      "metadata": {
        "id": "8gTADzfyI7rR"
      },
      "outputs": [],
      "source": [
        "from google.colab import drive\n",
        "drive.mount('/content/drive', force_remount=True)"
      ]
    },
    {
      "cell_type": "code",
      "execution_count": null,
      "metadata": {
        "id": "_mkUToNZeDGo"
      },
      "outputs": [],
      "source": [
        "!pip3 install --no-build-isolation --no-cache https://github.com/openpifpaf/openpifpaf/archive/main.zip"
      ]
    },
    {
      "cell_type": "code",
      "execution_count": null,
      "metadata": {
        "id": "mkzxzgltI7rU"
      },
      "outputs": [],
      "source": [
        "!pip3 install -r /content/drive/MyDrive/TCC/Tracker/requirements.txt"
      ]
    },
    {
      "cell_type": "code",
      "execution_count": null,
      "metadata": {
        "id": "xhPlIn8KI7rV"
      },
      "outputs": [],
      "source": [
        "!pip3 install fastapi nest-asyncio pyngrok uvicorn python-multipart"
      ]
    },
    {
      "cell_type": "code",
      "execution_count": null,
      "metadata": {
        "id": "c6mRE3ApI7rV"
      },
      "outputs": [],
      "source": [
        "from tqdm import tqdm\n",
        "from fastapi import FastAPI, File, UploadFile\n",
        "from typing import List\n",
        "from pyngrok import ngrok\n",
        "from datetime import datetime\n",
        "\n",
        "import os\n",
        "import csv\n",
        "import json\n",
        "import copy\n",
        "import shutil\n",
        "import math\n",
        "import uvicorn\n",
        "import nest_asyncio\n",
        "import numpy as np\n",
        "import matplotlib.pyplot as plt"
      ]
    },
    {
      "cell_type": "code",
      "execution_count": null,
      "metadata": {
        "id": "TB2e7YaFI7rW"
      },
      "outputs": [],
      "source": [
        "xh, yh = 1, 0\n",
        "threshold = 0.7\n",
        "\n",
        "neck = 0\n",
        "left_shoulder, right_shoulder = 5, 6\n",
        "left_hip, right_hip = 11, 12\n",
        "joints = [0, 5, 6, 7, 8, 9, 10, 11, 12, 13, 14, 15, 16]\n",
        "limbs = [(6, 8), (8, 10), (5, 7), (7, 9), (12, 14), (14, 16), (11, 13), (13, 15)]\n",
        "\n",
        "total_bins = 16"
      ]
    },
    {
      "cell_type": "code",
      "execution_count": null,
      "metadata": {
        "id": "YClZRMSpI7rX"
      },
      "outputs": [],
      "source": [
        "def euclidean_1d(p1, p2):\n",
        "    distance = 0\n",
        "\n",
        "    for i in range(len(p1)):\n",
        "        distance = distance + (float(p1[i]) - float(p2[i])) ** 2\n",
        "\n",
        "    return distance ** 0.5"
      ]
    },
    {
      "cell_type": "code",
      "execution_count": null,
      "metadata": {
        "id": "OiOnf_6jI7rX"
      },
      "outputs": [],
      "source": [
        "def save_files(path, files):\n",
        "    path_output = os.path.join(path, 'Capture')\n",
        "    \n",
        "    os.mkdir(path_output)\n",
        "    \n",
        "    for image in tqdm(files, desc='Progress'):\n",
        "        with open(os.path.join(path_output, image.filename), 'wb') as buffer:\n",
        "            shutil.copyfileobj(image.file, buffer)"
      ]
    },
    {
      "cell_type": "code",
      "execution_count": null,
      "metadata": {
        "id": "0yB5O-xII7rY"
      },
      "outputs": [],
      "source": [
        "def detect_poses(path):\n",
        "    path_input = os.path.join(path, 'Capture')\n",
        "    path_output = os.path.join(path, 'Estimation')\n",
        "    \n",
        "    os.mkdir(path_output)\n",
        "\n",
        "    path_images = ''\n",
        "\n",
        "    for image in sorted(os.listdir(path_input)):\n",
        "        path_images = path_images + os.path.join(path_input, image) + ' '\n",
        "\n",
        "    get_ipython().system('python3 -m openpifpaf.predict ' + path_images + '--json-output ' + path_output  + ' --checkpoint shufflenetv2k30 --debug')"
      ]
    },
    {
      "cell_type": "code",
      "execution_count": null,
      "metadata": {
        "id": "R2Xh6Z-YI7rY"
      },
      "outputs": [],
      "source": [
        "def track_poses(path):\n",
        "    path_input = os.path.join(path, 'Capture')\n",
        "    path_output = os.path.join(path, 'BoundingBoxes')\n",
        "    \n",
        "    os.mkdir(path_output)\n",
        "\n",
        "    get_ipython().system('cd /content/drive/MyDrive/TCC/Tracker && python3 ./track.py --source ' + path_input + ' --out_path ' + path_output + ' --save-txt --yolo-weights ./yolov5/weights/crowdhuman_yolov5m.pt --classes 0')"
      ]
    },
    {
      "cell_type": "code",
      "execution_count": null,
      "metadata": {
        "id": "S5UPZl6NJRsw"
      },
      "outputs": [],
      "source": [
        "def prepare_keypoints(path):\n",
        "    dictionary = {\n",
        "        'frame': 0,\n",
        "        'people': []\n",
        "    }\n",
        "\n",
        "    people = {\n",
        "        'keypoints': []\n",
        "    }\n",
        "\n",
        "    path_input = os.path.join(path, 'Estimation')\n",
        "    path_output = os.path.join(path, 'Keypoints')\n",
        "    \n",
        "    os.mkdir(path_output)\n",
        "\n",
        "    for estimation in tqdm(sorted(os.listdir(path_input)), desc='Progress'):\n",
        "        keypoints = os.path.join(path_input, estimation)\n",
        "        frame = estimation.split('.')[0]\n",
        "        \n",
        "        people['keypoints'] = []\n",
        "        dictionary['frame'] = int(frame)\n",
        "        dictionary['people'] = []\n",
        "\n",
        "        with open(keypoints, 'r') as f:\n",
        "            poses = json.load(f)\n",
        "\n",
        "            if len(poses) != 0:\n",
        "                for pose in poses:\n",
        "                    people['keypoints'] = pose['keypoints']\n",
        "                    dictionary['people'].append(copy.deepcopy(people))\n",
        "    \n",
        "        keypoints = frame + '.json'\n",
        "        \n",
        "        with open(os.path.join(path_output, keypoints), 'w') as f:\n",
        "            json.dump(dictionary, f)"
      ]
    },
    {
      "cell_type": "code",
      "execution_count": null,
      "metadata": {
        "id": "VqI5jWCoI7rZ"
      },
      "outputs": [],
      "source": [
        "def association(path_keypoints, path_boundingboxes):\n",
        "    with open(os.path.join(path_boundingboxes, 'bbox.csv'), 'r') as f:\n",
        "        reader = csv.reader(f)\n",
        "        boundingboxes_list = list(reader)\n",
        "        \n",
        "    ids = []\n",
        "\n",
        "    frames = []\n",
        "    num_frames = len(os.listdir(path_keypoints))\n",
        "\n",
        "    boundingboxes = [[] for i in range(num_frames)]\n",
        "\n",
        "    for boundingbox in boundingboxes_list:\n",
        "        frame = int(boundingbox[0])\n",
        "\n",
        "        if frame >= num_frames:\n",
        "            continue\n",
        "\n",
        "        id = int(float(boundingbox[1]))\n",
        "        ids.append(id)\n",
        "\n",
        "        x1, y1, x2, y2 = float(boundingbox[2]), float(boundingbox[3]), float(boundingbox[4]), float(boundingbox[5])\n",
        "        confbox = float(boundingbox[6])\n",
        "\n",
        "        boundingboxes[frame].append([id, x1, y1, x2, y2, confbox])\n",
        "        frames.append(frame)\n",
        "\n",
        "    ids = set(ids)\n",
        "    num_ids = len(ids)\n",
        "    indexes = {}\n",
        "\n",
        "    for i, id in enumerate(ids):\n",
        "        indexes[id] = i\n",
        "\n",
        "    frames = set(frames)\n",
        "    \n",
        "    subjects_keypoints = [[] for i in range(num_ids)]\n",
        "    \n",
        "    for frame in frames:\n",
        "        frame_string = str(frame)\n",
        "        keypoints_file = frame_string.zfill(8) + '.json'\n",
        "        \n",
        "        with open(os.path.join(path_keypoints, keypoints_file), 'r') as f:\n",
        "            keypoints_list = json.load(f)['people']\n",
        "\n",
        "        num_boundingboxes = len(boundingboxes[frame])\n",
        "        boundingbox_used = [False for i in range(num_boundingboxes)]\n",
        "\n",
        "        for i, keypoints in enumerate(keypoints_list):\n",
        "            distances = []\n",
        "\n",
        "            for j, boundingbox in enumerate(boundingboxes[frame]):\n",
        "                if boundingbox_used[j] == True:\n",
        "                    continue\n",
        "                    \n",
        "                id = int(boundingbox[0])\n",
        "                x1, y1, x2, y2 = float(boundingbox[1]), float(boundingbox[2]), float(boundingbox[3]), float(boundingbox[4])\n",
        "                x3, y3, x4, y4 = x1, y2, x2, y1\n",
        "                confbox = float(boundingbox[5])\n",
        "\n",
        "                key = keypoints['keypoints']\n",
        "\n",
        "                for joint in joints:\n",
        "                    x, y = float(key[3 * joint]), float(key[3 * joint + 1])\n",
        "                    conf = float(key[3 * joint + 2])\n",
        "\n",
        "                    if (x == 0. and y == 0.):\n",
        "                        distances.append((float('inf'), -1, -1))\n",
        "                    else:\n",
        "                        d1 = euclidean_1d([x, y], [x1, y1])\n",
        "                        d2 = euclidean_1d([x, y], [x2, y2])\n",
        "                        d3 = euclidean_1d([x, y], [x3, y3])\n",
        "                        d4 = euclidean_1d([x, y], [x4, y4])\n",
        "                        distances.append((max(d1, d2, d3, d4), id, j))\n",
        "\n",
        "            distances = sorted(distances)\n",
        "            \n",
        "            if len(distances) == 0 or distances[0][0] == float('inf'):\n",
        "                continue\n",
        "\n",
        "            id = distances[0][1]\n",
        "            subjects_keypoints[indexes[id]].append(keypoints['keypoints'])\n",
        "            \n",
        "            boundingbox_used[distances[0][2]] = True\n",
        "    \n",
        "    return subjects_keypoints"
      ]
    },
    {
      "cell_type": "code",
      "execution_count": null,
      "metadata": {
        "id": "r2Iy3dYMI7rb"
      },
      "outputs": [],
      "source": [
        "def extract_features(keypoints_list):\n",
        "    angles_list = []\n",
        "    distances_list = []\n",
        "    anthropometrics_list = []\n",
        "    \n",
        "    for limb in limbs:\n",
        "        angles = []\n",
        "        distances = []\n",
        "        anthropometrics = []\n",
        "\n",
        "        for keypoints in keypoints_list:\n",
        "            x1, y1 = float(keypoints[3 * limb[0]]), float(keypoints[3 * limb[0] + 1])\n",
        "            conf1 = float(keypoints[3 * limb[0] + 2])\n",
        "            \n",
        "            x2, y2 = float(keypoints[3 * limb[1]]), float(keypoints[3 * limb[1] + 1])\n",
        "            conf2 = float(keypoints[3 * limb[1] + 2])\n",
        "            \n",
        "            xw, yw = x2 - x1, y2 - y1\n",
        "            \n",
        "            xneck, yneck = float(keypoints[3 * neck]), float(keypoints[3 * neck + 1])\n",
        "            confneck = float(keypoints[3 * neck + 2])\n",
        "            \n",
        "            xleftshoulder, yleftshoulder = float(keypoints[3 * left_shoulder]), float(keypoints[3 * left_shoulder + 1])\n",
        "            confleftshoulder = float(keypoints[3 * left_shoulder + 2])\n",
        "\n",
        "            xrightshoulder, yrightshoulder = float(keypoints[3 * right_shoulder]), float(keypoints[3 * right_shoulder + 1])\n",
        "            confrightshoulder = float(keypoints[3 * right_shoulder + 2])\n",
        "\n",
        "            xlefthip, ylefthip = float(keypoints[3 * left_hip]), float(keypoints[3 * left_hip + 1])\n",
        "            conflefthip = float(keypoints[3 * left_hip + 2])\n",
        "\n",
        "            xrighthip, yrighthip = float(keypoints[3 * right_hip]), float(keypoints[3 * right_hip + 1])\n",
        "            conflrighthip = float(keypoints[3 * right_hip + 2])\n",
        "                \n",
        "            torso = max(euclidean_1d([xleftshoulder, yleftshoulder], [xlefthip, ylefthip]), euclidean_1d([xrightshoulder, yrightshoulder], [xrighthip, yrighthip]))\n",
        "\n",
        "            if (x1 == 0 and y1 == 0) or (x2 == 0 and y2 == 0) or (xw == 0 and yw == 0):\n",
        "                rho = -1\n",
        "            else:\n",
        "                rho = math.acos((xw * xh + yw * yh) / (((xw * xw + yw * yw) ** 0.5) * ((xh * xh + yh * yh) ** 0.5)))\n",
        "\n",
        "            if (x1 == 0 and y1 == 0) or (x2 == 0 and y2 == 0) or (xw == 0 and yw == 0) or (xneck == 0 and yneck == 0):\n",
        "                norm = 0\n",
        "            else:\n",
        "                xv, yv = xneck - x1, yneck - y1\n",
        "                scalar = (xw * xv + yw * yv) / (((xw * xw + yw * yw) ** 0.5) ** 2)\n",
        "                projx, projy = xw * scalar, yw * scalar\n",
        "                dx, dy = xv - projx, yv - projy\n",
        "                norm = (dx * dx + dy * dy) ** 0.5\n",
        "\n",
        "            if (x1 == 0 and y1 == 0) or conf1 < threshold or (x2 == 0 and y2 == 0) or conf2 < threshold or torso == 0:\n",
        "                dist = 0\n",
        "            else:\n",
        "                dist = euclidean_1d([x1, y1], [x2, y2]) / torso\n",
        "\n",
        "            angles.append(rho)\n",
        "            distances.append(math.log2(norm + 1))\n",
        "            anthropometrics.append(dist)\n",
        "\n",
        "        angles_list.append(angles)\n",
        "        distances_list.append(distances)\n",
        "        anthropometrics_list.append(anthropometrics)\n",
        "\n",
        "    return angles_list, distances_list, anthropometrics_list"
      ]
    },
    {
      "cell_type": "code",
      "execution_count": null,
      "metadata": {
        "id": "5Yqm40zII7rc"
      },
      "outputs": [],
      "source": [
        "def create_histograms(angles, distances, anthropometrics):\n",
        "    max_distance = 141.87993213380608\n",
        "    max_anthropometrics = 1.0035907765532568\n",
        "\n",
        "    histogram_angles, bins, patches = plt.hist(angles, total_bins, range=(-1, math.pi))\n",
        "    plt.close()\n",
        "    histogram_distances, bins, patches = plt.hist(distances, total_bins, range=(0, math.log2(max_distance + 1)))\n",
        "    plt.close()\n",
        "    histogram_anthropometrics, bins, patches = plt.hist(anthropometrics, total_bins, range=(0, max_anthropometrics))\n",
        "    plt.close()\n",
        "\n",
        "    for arr in range(len(histogram_angles)):\n",
        "        for val in range(len(histogram_angles[arr])):\n",
        "            if len(angles[arr]) != 0:\n",
        "                histogram_angles[arr][val] = histogram_angles[arr][val] / len(angles[arr])\n",
        "\n",
        "    for arr in range(len(histogram_distances)):\n",
        "        for val in range(len(histogram_distances[arr])):\n",
        "            if len(distances[arr]) != 0:\n",
        "                histogram_distances[arr][val] = histogram_distances[arr][val] / len(distances[arr])\n",
        "\n",
        "    for arr in range(len(histogram_anthropometrics)):\n",
        "        for val in range(len(histogram_anthropometrics[arr])):\n",
        "            if len(anthropometrics[arr]) != 0:\n",
        "                histogram_anthropometrics[arr][val] = histogram_anthropometrics[arr][val] / len(anthropometrics[arr])\n",
        "                \n",
        "    return histogram_angles, histogram_distances, histogram_anthropometrics"
      ]
    },
    {
      "cell_type": "code",
      "execution_count": null,
      "metadata": {
        "id": "FRtsHJeKI7rd"
      },
      "outputs": [],
      "source": [
        "class HTTPServer():\n",
        "    def __init__(self, app=FastAPI()):\n",
        "        self.app = app\n",
        "\n",
        "        @app.post('/createsingledescriptors')\n",
        "        async def single_descriptors(files: List[UploadFile] = File(...)):\n",
        "            now = datetime.now()\n",
        "            folder = now.strftime('%H-%M-%S')\n",
        "            \n",
        "            path = os.path.join('/content/drive/MyDrive/TCC', folder)\n",
        "            os.mkdir(path)\n",
        "\n",
        "            try:\n",
        "                save_files(path, files)\n",
        "                \n",
        "                detect_poses(path)\n",
        "\n",
        "                prepare_keypoints(path)\n",
        "\n",
        "                keypoints_list = list()\n",
        "\n",
        "                for keypoints in sorted(os.listdir(os.path.join(path, 'Keypoints'))):\n",
        "                    with open(os.path.join(os.path.join(path, 'Keypoints'), keypoints), 'r') as f:\n",
        "                        poses = json.load(f)['people']\n",
        "\n",
        "                        if len(poses) != 0:\n",
        "                            for pose in poses:\n",
        "                                keypoints_list.append(pose['keypoints'])\n",
        "\n",
        "                angles, distances, anthropometrics = extract_features(keypoints_list)\n",
        "                histogram_angles, histogram_distances, histogram_anthropometrics = create_histograms(angles, distances, anthropometrics)\n",
        "            finally:\n",
        "                shutil.rmtree(path)\n",
        "                \n",
        "            return {'angles': histogram_angles.tolist(), 'distances': histogram_distances.tolist(), 'anthropometrics': histogram_anthropometrics.tolist()}\n",
        "\n",
        "        @app.post('/createmultidescriptors')\n",
        "        async def multi_descriptors(files: List[UploadFile] = File(...)):\n",
        "            now = datetime.now()\n",
        "            folder = now.strftime('%H-%M-%S')\n",
        "            \n",
        "            path = os.path.join('/content/drive/MyDrive/TCC', folder)\n",
        "            os.mkdir(path)\n",
        "            \n",
        "            response = list()\n",
        "\n",
        "            try:\n",
        "                save_files(path, files)\n",
        "                \n",
        "                detect_poses(path)\n",
        "                track_poses(path)\n",
        "\n",
        "                prepare_keypoints(path)\n",
        "                \n",
        "                subject_keypoints = association(os.path.join(path, 'Keypoints'), os.path.join(path, 'BoundingBoxes'))\n",
        "                \n",
        "                for keypoints_list in subject_keypoints:\n",
        "                    angles, distances, anthropometrics = extract_features(keypoints_list)\n",
        "                    histogram_angles, histogram_distances, histogram_anthropometrics = create_histograms(angles, distances, anthropometrics)\n",
        "                    response.append({'angles': histogram_angles.tolist(), 'distances': histogram_distances.tolist(), 'anthropometrics': histogram_anthropometrics.tolist()})\n",
        "            finally:\n",
        "                shutil.rmtree(path)\n",
        "\n",
        "            return {'list': response}\n",
        "\n",
        "    def run(self, port=8000):\n",
        "        ngrok_tunnel = ngrok.connect(port)\n",
        "        print('Public URL:', ngrok_tunnel.public_url)\n",
        "        nest_asyncio.apply()\n",
        "        uvicorn.run(self.app, port=port)\n",
        "        "
      ]
    },
    {
      "cell_type": "code",
      "execution_count": null,
      "metadata": {
        "id": "N2WbZj5uI7re"
      },
      "outputs": [],
      "source": [
        "app = HTTPServer()\n",
        "app.run()"
      ]
    }
  ],
  "metadata": {
    "accelerator": "GPU",
    "colab": {
      "provenance": []
    },
    "gpuClass": "standard",
    "kernelspec": {
      "display_name": "Python 3",
      "language": "python",
      "name": "python3"
    },
    "language_info": {
      "name": "python",
      "version": "3.8.10 (default, Nov 14 2022, 12:59:47) \n[GCC 9.4.0]"
    },
    "vscode": {
      "interpreter": {
        "hash": "31f2aee4e71d21fbe5cf8b01ff0e069b9275f58929596ceb00d14d90e3e16cd6"
      }
    }
  },
  "nbformat": 4,
  "nbformat_minor": 0
}